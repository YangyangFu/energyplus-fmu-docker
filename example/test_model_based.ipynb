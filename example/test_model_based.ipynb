{
 "cells": [
  {
   "cell_type": "code",
   "execution_count": 1,
   "metadata": {},
   "outputs": [],
   "source": [
    "import numpy as np \n",
    "import pandas as pd\n",
    "import pyfmi "
   ]
  },
  {
   "cell_type": "code",
   "execution_count": 2,
   "metadata": {},
   "outputs": [
    {
     "data": {
      "text/plain": [
       "OrderedDict([('zone_temp', <pyfmi.fmi.ScalarVariable2 at 0x7f2ca1d30c70>)])"
      ]
     },
     "execution_count": 2,
     "metadata": {},
     "output_type": "execute_result"
    }
   ],
   "source": [
    "model = pyfmi.load_fmu('model.fmu')\n",
    "variables = model.get_model_variables()\n",
    "variables"
   ]
  },
  {
   "cell_type": "code",
   "execution_count": 3,
   "metadata": {},
   "outputs": [
    {
     "data": {
      "text/plain": [
       "OrderedDict()"
      ]
     },
     "execution_count": 3,
     "metadata": {},
     "output_type": "execute_result"
    }
   ],
   "source": [
    "inputs = model.get_input_list()\n",
    "inputs"
   ]
  },
  {
   "cell_type": "markdown",
   "metadata": {},
   "source": [
    "## Forward Simulation: Method 1"
   ]
  },
  {
   "cell_type": "code",
   "execution_count": 4,
   "metadata": {},
   "outputs": [
    {
     "name": "stdout",
     "output_type": "stream",
     "text": [
      "Reading input and weather file for preprocessor program.\n",
      "The IDF version of the input file ///tmp/JModelica.org/jm_tmppfy0zj6i//resources//model.idf starts with 22\n",
      "Successfully finish reading weather file.\n",
      "This is the Begin Month: 1\n",
      "Time (0) set is smaller than minimun allowed (1 day). Day will be set to 1.\n",
      "This is the Day of the Begin Month: 1\n",
      "This is the End Month: 1\n",
      "This is the Day of the End Month: 1\n",
      "This is the New Day of Week: SUNDAY\n",
      "Running EPMacro...\n",
      "ExpandObjects Started.\n",
      " Begin reading Energy+.idd file.\n",
      " Done reading Energy+.idd file.\n",
      "ExpandObjects Finished. Time:     0.028\n",
      "EnergyPlus Starting\n",
      "EnergyPlus, Version 22.2.0-c249759bad, YMD=2023.10.20 21:30\n",
      "Initializing Response Factors\n",
      "Calculating CTFs for \"EXTERIOR WALL\"\n",
      "Calculating CTFs for \"INTERIORFURNISHINGS\"\n",
      "Calculating CTFs for \"EXTERIOR FLOOR\"\n",
      "Calculating CTFs for \"INTERIOR FLOOR\"\n",
      "Calculating CTFs for \"INTERIOR CEILING\"\n",
      "Calculating CTFs for \"EXTERIOR ROOF\"\n",
      "Calculating CTFs for \"EXTERIOR DOOR\"\n",
      "Calculating CTFs for \"GABLE_END\"\n",
      "Calculating CTFs for \"BASEMENT WALL\"\n",
      "Initializing Window Optical Properties\n",
      "Initializing Solar Calculations\n",
      "Allocate Solar Module Arrays\n",
      "Initializing Zone and Enclosure Report Variables\n",
      "Initializing Surface (Shading) Report Variables\n",
      "Computing Interior Solar Absorption Factors\n",
      "Determining Shadowing Combinations\n",
      "Computing Window Shade Absorption Factors\n",
      "Proceeding with Initializing Solar Calculations\n",
      "Initializing Surfaces\n",
      "Initializing Outdoor environment for Surfaces\n",
      "Setting up Surface Reporting Variables\n",
      "Initializing Temperature and Flux Histories\n",
      "Initializing Window Shading\n",
      "Computing Interior Absorption Factors\n",
      "Computing Interior Diffuse Solar Absorption Factors\n",
      "Initializing Solar Heat Gains\n",
      "Initializing Internal Heat Gains\n",
      "Initializing Interior Solar Distribution\n",
      "Initializing Interior Convection Coefficients\n",
      "Gathering Information for Predefined Reporting\n",
      "Completed Initializing Surface Heat Balance\n",
      "Calculate Outside Surface Heat Balance\n",
      "Calculate Inside Surface Heat Balance\n",
      "Calculate Air Heat Balance\n",
      "Initializing HVAC\n",
      "Warming up\n",
      "Warming up\n",
      "Warming up\n",
      "Warming up\n",
      "Warming up\n",
      "Warming up\n",
      "Performing Zone Sizing Simulation\n",
      "...for Sizing Period: #1 ATLANTA-HARTSFIELD.JACKSON.INTL.AP_GA_USA ANN HTG 99.6% CONDNS DB\n",
      "Warming up\n",
      "Warming up\n",
      "Warming up\n",
      "Warming up\n",
      "Warming up\n",
      "Warming up\n",
      "Performing Zone Sizing Simulation\n",
      "...for Sizing Period: #2 ATLANTA-HARTSFIELD.JACKSON.INTL.AP_GA_USA ANN CLG .4% CONDNS DB=>MWB\n",
      "Calculating System sizing\n",
      "...for Sizing Period: #1 ATLANTA-HARTSFIELD.JACKSON.INTL.AP_GA_USA ANN HTG 99.6% CONDNS DB\n",
      "Calculating System sizing\n",
      "...for Sizing Period: #2 ATLANTA-HARTSFIELD.JACKSON.INTL.AP_GA_USA ANN CLG .4% CONDNS DB=>MWB\n",
      "Adjusting Air System Sizing\n",
      "Adjusting Standard 62.1 Ventilation Sizing\n",
      "Initializing Simulation\n",
      "Reporting Surfaces\n",
      "Beginning Primary Simulation\n",
      "Initializing New Environment Parameters\n",
      "Warming up {1}\n",
      "Instantiating FunctionalMockupUnitExport interface\n",
      "ExternalInterface initializes.\n",
      "Number of outputs in ExternalInterface = 1\n",
      "Number of inputs  in ExternalInterface = 0\n",
      "Warming up {2}\n",
      "Warming up {3}\n",
      "Warming up {4}\n",
      "Warming up {5}\n",
      "Warming up {6}\n",
      "Starting Simulation at 01/21 for ATLANTA-HARTSFIELD.JACKSON.INTL.AP_GA_USA ANN HTG 99.6% CONDNS DB\n",
      "Initializing New Environment Parameters\n",
      "Warming up {1}\n",
      "Warming up {2}\n",
      "Warming up {3}\n",
      "Warming up {4}\n",
      "Warming up {5}\n",
      "Warming up {6}\n",
      "Starting Simulation at 07/21 for ATLANTA-HARTSFIELD.JACKSON.INTL.AP_GA_USA ANN CLG .4% CONDNS DB=>MWB\n",
      "Initializing New Environment Parameters\n",
      "Warming up {1}\n",
      "Warming up {2}\n",
      "Warming up {3}\n",
      "Warming up {4}\n",
      "Warming up {5}\n",
      "Warming up {6}\n",
      "Starting Simulation at 01/01/2017 for ANNUAL\n",
      "ExternalInterface starts first data exchange.\n",
      "Simulation interval    : 0.0 - 86400.0 seconds.\n",
      "Elapsed simulation time: 0.2762716789998194 seconds.\n"
     ]
    }
   ],
   "source": [
    "# \n",
    "ts = 0.0 \n",
    "te = 86400.\n",
    "options = model.simulate_options()\n",
    "idf_steps_per_hour = 6\n",
    "dt = 3600./idf_steps_per_hour\n",
    "ncp = (te - ts)/dt\n",
    "options['ncp'] = int(ncp)\n",
    "\n",
    "# simulation setup\n",
    "#model.setup_experiment(start_time=ts, stop_time=te)\n",
    "#model.initialize()\n",
    "\n",
    "# generate inputs\n",
    "t = np.linspace(ts, te, int(ncp))\n",
    "u = np.ones_like(t)\n",
    "u_traj = np.vstack((t, u)).T\n",
    "\n",
    "# simualte\n",
    "#model.set('yShade', 0.1)\n",
    "#res = model.simulate(ts, te, input=('yShade', u_traj), options=options)\n",
    "res = model.simulate(ts, te, options=options)"
   ]
  },
  {
   "cell_type": "code",
   "execution_count": 6,
   "metadata": {},
   "outputs": [
    {
     "data": {
      "text/plain": [
       "array([22.22110038, 22.22168617, 22.22190176, 22.22194058, 22.22197284,\n",
       "       22.22227852, 22.22229391, 22.22244312, 22.22237508, 22.22392478,\n",
       "       22.22511999, 22.22397084, 22.22507647, 22.22079659, 22.22172185,\n",
       "       22.22050345, 22.22173851, 22.22068748, 22.22185226, 22.22402795,\n",
       "       22.22553986, 22.22426649, 22.22532372, 22.22427532, 22.224238  ,\n",
       "       22.22085248, 22.2219158 , 22.22070256, 22.22188762, 22.22067139,\n",
       "       22.22187572, 22.22201553, 22.22333274, 22.22209349, 22.22336683,\n",
       "       22.22208339, 22.22338235, 22.22103527, 22.22218802, 22.21989265,\n",
       "       22.22134761, 22.22000005, 22.22135743, 22.21994559, 22.22123897,\n",
       "       22.21971652, 22.22120728, 22.21983294, 22.22132868, 22.22297189,\n",
       "       22.22435606, 22.2230225 , 22.22436101, 22.22304327, 22.22436672,\n",
       "       22.22511657, 22.22672906, 22.22517879, 22.22685123, 22.22269963,\n",
       "       22.22423918, 22.2220428 , 22.22325922, 22.22215449, 22.22342234,\n",
       "       22.22249547, 22.22228982, 22.22119285, 22.22217482, 22.22417556,\n",
       "       22.22817816, 22.22609361, 22.22577047, 22.22668255, 22.22774726,\n",
       "       22.2267015 , 22.22710955, 22.22424117, 22.22561292, 22.21974667,\n",
       "       22.21886903, 22.21820629, 22.22036547, 22.22003441, 22.21869557,\n",
       "       22.22187777, 22.22334814, 22.2221888 , 22.22354018, 22.2223349 ,\n",
       "       22.2236715 , 22.22250524, 22.22228374, 22.22227678, 22.22227059,\n",
       "       22.22199111, 22.22194213, 22.22176666, 22.22174853, 22.22170462,\n",
       "       22.22167796, 22.22170984, 22.2216663 , 22.21970156, 22.21968226,\n",
       "       22.21968817, 22.2196829 , 22.2196753 , 22.21967188, 22.21840831,\n",
       "       22.21862857, 22.21890117, 22.21902572, 22.21916107, 22.21932577,\n",
       "       22.22393824, 22.22439688, 22.22441127, 22.22493189, 22.22452244,\n",
       "       22.2243198 , 22.21975809, 22.21954715, 22.21954033, 22.21954724,\n",
       "       22.21955568, 22.21956347, 22.21927219, 22.21913374, 22.21882998,\n",
       "       22.21919588, 22.21940911, 22.21952986, 22.22163425, 22.22172273,\n",
       "       22.22171729, 22.22169621, 22.2216688 , 22.22238018, 22.2216811 ,\n",
       "       22.22148911, 22.22136503, 22.22127892, 22.2211867 , 22.22110046])"
      ]
     },
     "execution_count": 6,
     "metadata": {},
     "output_type": "execute_result"
    }
   ],
   "source": [
    "res['zone_temp']"
   ]
  },
  {
   "cell_type": "code",
   "execution_count": 7,
   "metadata": {},
   "outputs": [
    {
     "data": {
      "text/plain": [
       "[]"
      ]
     },
     "execution_count": 7,
     "metadata": {},
     "output_type": "execute_result"
    }
   ],
   "source": [
    "model.get_log()"
   ]
  }
 ],
 "metadata": {
  "kernelspec": {
   "display_name": "base",
   "language": "python",
   "name": "python3"
  },
  "language_info": {
   "codemirror_mode": {
    "name": "ipython",
    "version": 3
   },
   "file_extension": ".py",
   "mimetype": "text/x-python",
   "name": "python",
   "nbconvert_exporter": "python",
   "pygments_lexer": "ipython3",
   "version": "3.11.4"
  }
 },
 "nbformat": 4,
 "nbformat_minor": 2
}
