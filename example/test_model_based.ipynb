{
 "cells": [
  {
   "cell_type": "code",
   "execution_count": 1,
   "metadata": {},
   "outputs": [],
   "source": [
    "import numpy as np \n",
    "import pandas as pd\n",
    "import pyfmi "
   ]
  },
  {
   "cell_type": "code",
   "execution_count": 2,
   "metadata": {},
   "outputs": [
    {
     "data": {
      "text/plain": [
       "OrderedDict([('zone_temp', <pyfmi.fmi.ScalarVariable2 at 0x7f2ca1d30c70>)])"
      ]
     },
     "execution_count": 2,
     "metadata": {},
     "output_type": "execute_result"
    }
   ],
   "source": [
    "model = pyfmi.load_fmu('model.fmu')\n",
    "variables = model.get_model_variables()\n",
    "variables"
   ]
  },
  {
   "cell_type": "code",
   "execution_count": 3,
   "metadata": {},
   "outputs": [
    {
     "data": {
      "text/plain": [
       "OrderedDict()"
      ]
     },
     "execution_count": 3,
     "metadata": {},
     "output_type": "execute_result"
    }
   ],
   "source": [
    "inputs = model.get_input_list()\n",
    "inputs"
   ]
  },
  {
   "cell_type": "markdown",
   "metadata": {},
   "source": [
    "## Forward Simulation: Method 1"
   ]
  },
  {
   "cell_type": "code",
   "execution_count": 4,
   "metadata": {},
   "outputs": [
    {
     "name": "stdout",
     "output_type": "stream",
     "text": [
      "Reading input and weather file for preprocessor program.\n",
      "The IDF version of the input file ///tmp/JModelica.org/jm_tmppfy0zj6i//resources//model.idf starts with 22\n",
      "Successfully finish reading weather file.\n",
      "This is the Begin Month: 1\n",
      "Time (0) set is smaller than minimun allowed (1 day). Day will be set to 1.\n",
      "This is the Day of the Begin Month: 1\n",
      "This is the End Month: 1\n",
      "This is the Day of the End Month: 1\n",
      "This is the New Day of Week: SUNDAY\n",
      "Running EPMacro...\n",
      "ExpandObjects Started.\n",
      " Begin reading Energy+.idd file.\n",
      " Done reading Energy+.idd file.\n",
      "ExpandObjects Finished. Time:     0.028\n",
      "EnergyPlus Starting\n",
      "EnergyPlus, Version 22.2.0-c249759bad, YMD=2023.10.20 21:30\n",
      "Initializing Response Factors\n",
      "Calculating CTFs for \"EXTERIOR WALL\"\n",
      "Calculating CTFs for \"INTERIORFURNISHINGS\"\n",
      "Calculating CTFs for \"EXTERIOR FLOOR\"\n",
      "Calculating CTFs for \"INTERIOR FLOOR\"\n",
      "Calculating CTFs for \"INTERIOR CEILING\"\n",
      "Calculating CTFs for \"EXTERIOR ROOF\"\n",
      "Calculating CTFs for \"EXTERIOR DOOR\"\n",
      "Calculating CTFs for \"GABLE_END\"\n",
      "Calculating CTFs for \"BASEMENT WALL\"\n",
      "Initializing Window Optical Properties\n",
      "Initializing Solar Calculations\n",
      "Allocate Solar Module Arrays\n",
      "Initializing Zone and Enclosure Report Variables\n",
      "Initializing Surface (Shading) Report Variables\n",
      "Computing Interior Solar Absorption Factors\n",
      "Determining Shadowing Combinations\n",
      "Computing Window Shade Absorption Factors\n",
      "Proceeding with Initializing Solar Calculations\n",
      "Initializing Surfaces\n",
      "Initializing Outdoor environment for Surfaces\n",
      "Setting up Surface Reporting Variables\n",
      "Initializing Temperature and Flux Histories\n",
      "Initializing Window Shading\n",
      "Computing Interior Absorption Factors\n",
      "Computing Interior Diffuse Solar Absorption Factors\n",
      "Initializing Solar Heat Gains\n",
      "Initializing Internal Heat Gains\n",
      "Initializing Interior Solar Distribution\n",
      "Initializing Interior Convection Coefficients\n",
      "Gathering Information for Predefined Reporting\n",
      "Completed Initializing Surface Heat Balance\n",
      "Calculate Outside Surface Heat Balance\n",
      "Calculate Inside Surface Heat Balance\n",
      "Calculate Air Heat Balance\n",
      "Initializing HVAC\n",
      "Warming up\n",
      "Warming up\n",
      "Warming up\n",
      "Warming up\n",
      "Warming up\n",
      "Warming up\n",
      "Performing Zone Sizing Simulation\n",
      "...for Sizing Period: #1 ATLANTA-HARTSFIELD.JACKSON.INTL.AP_GA_USA ANN HTG 99.6% CONDNS DB\n",
      "Warming up\n",
      "Warming up\n",
      "Warming up\n",
      "Warming up\n",
      "Warming up\n",
      "Warming up\n",
      "Performing Zone Sizing Simulation\n",
      "...for Sizing Period: #2 ATLANTA-HARTSFIELD.JACKSON.INTL.AP_GA_USA ANN CLG .4% CONDNS DB=>MWB\n",
      "Calculating System sizing\n",
      "...for Sizing Period: #1 ATLANTA-HARTSFIELD.JACKSON.INTL.AP_GA_USA ANN HTG 99.6% CONDNS DB\n",
      "Calculating System sizing\n",
      "...for Sizing Period: #2 ATLANTA-HARTSFIELD.JACKSON.INTL.AP_GA_USA ANN CLG .4% CONDNS DB=>MWB\n",
      "Adjusting Air System Sizing\n",
      "Adjusting Standard 62.1 Ventilation Sizing\n",
      "Initializing Simulation\n",
      "Reporting Surfaces\n",
      "Beginning Primary Simulation\n",
      "Initializing New Environment Parameters\n",
      "Warming up {1}\n",
      "Instantiating FunctionalMockupUnitExport interface\n",
      "ExternalInterface initializes.\n",
      "Number of outputs in ExternalInterface = 1\n",
      "Number of inputs  in ExternalInterface = 0\n",
      "Warming up {2}\n",
      "Warming up {3}\n",
      "Warming up {4}\n",
      "Warming up {5}\n",
      "Warming up {6}\n",
      "Starting Simulation at 01/21 for ATLANTA-HARTSFIELD.JACKSON.INTL.AP_GA_USA ANN HTG 99.6% CONDNS DB\n",
      "Initializing New Environment Parameters\n",
      "Warming up {1}\n",
      "Warming up {2}\n",
      "Warming up {3}\n",
      "Warming up {4}\n",
      "Warming up {5}\n",
      "Warming up {6}\n",
      "Starting Simulation at 07/21 for ATLANTA-HARTSFIELD.JACKSON.INTL.AP_GA_USA ANN CLG .4% CONDNS DB=>MWB\n",
      "Initializing New Environment Parameters\n",
      "Warming up {1}\n",
      "Warming up {2}\n",
      "Warming up {3}\n",
      "Warming up {4}\n",
      "Warming up {5}\n",
      "Warming up {6}\n",
      "Starting Simulation at 01/01/2017 for ANNUAL\n",
      "ExternalInterface starts first data exchange.\n",
      "Simulation interval    : 0.0 - 86400.0 seconds.\n",
      "Elapsed simulation time: 0.2762716789998194 seconds.\n"
     ]
    }
   ],
   "source": [
    "# \n",
    "ts = 0.0 \n",
    "te = 86400.\n",
    "options = model.simulate_options()\n",
    "idf_steps_per_hour = 6\n",
    "dt = 3600./idf_steps_per_hour\n",
    "ncp = (te - ts)/dt\n",
    "options['ncp'] = int(ncp)\n",
    "\n",
    "# simulation setup\n",
    "#model.setup_experiment(start_time=ts, stop_time=te)\n",
    "#model.initialize()\n",
    "\n",
    "# generate inputs\n",
    "t = np.linspace(ts, te, int(ncp))\n",
    "u = np.ones_like(t)\n",
    "u_traj = np.vstack((t, u)).T\n",
    "\n",
    "# simualte\n",
    "#model.set('yShade', 0.1)\n",
    "#res = model.simulate(ts, te, input=('yShade', u_traj), options=options)\n",
    "res = model.simulate(ts, te, options=options)"
   ]
  },
  {
   "cell_type": "code",
   "execution_count": 5,
   "metadata": {},
   "outputs": [
    {
     "ename": "VariableNotFoundError",
     "evalue": "Cannot find variable yShade in data file.",
     "output_type": "error",
     "traceback": [
      "\u001b[0;31m---------------------------------------------------------------------------\u001b[0m",
      "\u001b[0;31mKeyError\u001b[0m                                  Traceback (most recent call last)",
      "File \u001b[0;32m/opt/conda/lib/python3.11/site-packages/pyfmi/common/io.py:164\u001b[0m, in \u001b[0;36mResultDymola.get_variable_index\u001b[0;34m(self, name)\u001b[0m\n\u001b[1;32m    163\u001b[0m \u001b[39mif\u001b[39;00m python3_flag \u001b[39mand\u001b[39;00m \u001b[39misinstance\u001b[39m(\u001b[39mself\u001b[39m, ResultDymolaBinary):\n\u001b[0;32m--> 164\u001b[0m     \u001b[39mreturn\u001b[39;00m \u001b[39mself\u001b[39;49m\u001b[39m.\u001b[39;49mname_lookup[encode(name)]\n\u001b[1;32m    165\u001b[0m \u001b[39melse\u001b[39;00m:\n",
      "\u001b[0;31mKeyError\u001b[0m: b'yShade'",
      "\nDuring handling of the above exception, another exception occurred:\n",
      "\u001b[0;31mVariableNotFoundError\u001b[0m                     Traceback (most recent call last)",
      "\u001b[1;32m/workspaces/energyplus-fmu-docker/example/test_model_based.ipynb Cell 6\u001b[0m line \u001b[0;36m1\n\u001b[0;32m----> <a href='vscode-notebook-cell://dev-container%2B7b22686f737450617468223a22633a5c5c55736572735c5c7966333833315c5c6769746875625c5c656e65726779706c75732d666d752d646f636b6572222c226c6f63616c446f636b6572223a66616c73652c22636f6e66696746696c65223a7b22246d6964223a312c22667350617468223a22633a5c5c55736572735c5c7966333833315c5c6769746875625c5c656e65726779706c75732d666d752d646f636b65725c5c2e646576636f6e7461696e65725c5c646576636f6e7461696e65722e6a736f6e222c225f736570223a312c2265787465726e616c223a2266696c653a2f2f2f632533412f55736572732f7966333833312f6769746875622f656e65726779706c75732d666d752d646f636b65722f2e646576636f6e7461696e65722f646576636f6e7461696e65722e6a736f6e222c2270617468223a222f633a2f55736572732f7966333833312f6769746875622f656e65726779706c75732d666d752d646f636b65722f2e646576636f6e7461696e65722f646576636f6e7461696e65722e6a736f6e222c22736368656d65223a2266696c65227d7d/workspaces/energyplus-fmu-docker/example/test_model_based.ipynb#W5sdnNjb2RlLXJlbW90ZQ%3D%3D?line=0'>1</a>\u001b[0m res[\u001b[39m'\u001b[39;49m\u001b[39myShade\u001b[39;49m\u001b[39m'\u001b[39;49m]\n",
      "File \u001b[0;32m/opt/conda/lib/python3.11/site-packages/pyfmi/common/algorithm_drivers.py:173\u001b[0m, in \u001b[0;36mJMResultBase.__getitem__\u001b[0;34m(self, key)\u001b[0m\n\u001b[1;32m    163\u001b[0m \u001b[39mdef\u001b[39;00m \u001b[39m__getitem__\u001b[39m(\u001b[39mself\u001b[39m, key):\n\u001b[1;32m    164\u001b[0m \u001b[39m    \u001b[39m\u001b[39m\"\"\"\u001b[39;00m\n\u001b[1;32m    165\u001b[0m \u001b[39m    Returns vector with result trajectory for a variable, parameter \u001b[39;00m\n\u001b[1;32m    166\u001b[0m \u001b[39m    or constant that has the same length as the time vector.\u001b[39;00m\n\u001b[0;32m   (...)\u001b[0m\n\u001b[1;32m    171\u001b[0m \u001b[39m            Name of the variable/parameter/constant.\u001b[39;00m\n\u001b[1;32m    172\u001b[0m \u001b[39m    \"\"\"\u001b[39;00m\n\u001b[0;32m--> 173\u001b[0m     val_x \u001b[39m=\u001b[39m \u001b[39mself\u001b[39;49m\u001b[39m.\u001b[39;49mresult_data\u001b[39m.\u001b[39;49mget_variable_data(key)\u001b[39m.\u001b[39mx\n\u001b[1;32m    175\u001b[0m     \u001b[39mif\u001b[39;00m \u001b[39mself\u001b[39m\u001b[39m.\u001b[39mresult_data\u001b[39m.\u001b[39mis_variable(key):\n\u001b[1;32m    176\u001b[0m         \u001b[39mreturn\u001b[39;00m val_x\n",
      "File \u001b[0;32m/opt/conda/lib/python3.11/site-packages/pyfmi/common/io.py:1481\u001b[0m, in \u001b[0;36mResultDymolaBinary.get_variable_data\u001b[0;34m(self, name)\u001b[0m\n\u001b[1;32m   1479\u001b[0m     \u001b[39mreturn\u001b[39;00m Trajectory(\u001b[39mself\u001b[39m\u001b[39m.\u001b[39m_get_diagnostics_trajectory(\u001b[39m0\u001b[39m), N\u001b[39m.\u001b[39mcumsum(\u001b[39mself\u001b[39m\u001b[39m.\u001b[39mget_variable_data(\u001b[39mf\u001b[39m\u001b[39m'\u001b[39m\u001b[39m{\u001b[39;00mDIAGNOSTICS_PREFIX\u001b[39m}\u001b[39;00m\u001b[39mcpu_time_per_step\u001b[39m\u001b[39m'\u001b[39m)\u001b[39m.\u001b[39mx))\n\u001b[1;32m   1480\u001b[0m \u001b[39melse\u001b[39;00m:\n\u001b[0;32m-> 1481\u001b[0m     varInd  \u001b[39m=\u001b[39m \u001b[39mself\u001b[39;49m\u001b[39m.\u001b[39;49mget_variable_index(name)\n\u001b[1;32m   1483\u001b[0m dataInd \u001b[39m=\u001b[39m \u001b[39mself\u001b[39m\u001b[39m.\u001b[39m_dataInfo[\u001b[39m1\u001b[39m][varInd]\n\u001b[1;32m   1484\u001b[0m dataMat \u001b[39m=\u001b[39m \u001b[39mself\u001b[39m\u001b[39m.\u001b[39m_dataInfo[\u001b[39m0\u001b[39m][varInd]\n",
      "File \u001b[0;32m/opt/conda/lib/python3.11/site-packages/pyfmi/common/io.py:181\u001b[0m, in \u001b[0;36mResultDymola.get_variable_index\u001b[0;34m(self, name)\u001b[0m\n\u001b[1;32m    179\u001b[0m         \u001b[39mreturn\u001b[39;00m \u001b[39mself\u001b[39m\u001b[39m.\u001b[39m_exhaustive_search_for_derivatives(name)\n\u001b[1;32m    180\u001b[0m \u001b[39melse\u001b[39;00m:\n\u001b[0;32m--> 181\u001b[0m     \u001b[39mraise\u001b[39;00m VariableNotFoundError(\u001b[39m\"\u001b[39m\u001b[39mCannot find variable \u001b[39m\u001b[39m\"\u001b[39m \u001b[39m+\u001b[39m\n\u001b[1;32m    182\u001b[0m                             name \u001b[39m+\u001b[39m \u001b[39m\"\u001b[39m\u001b[39m in data file.\u001b[39m\u001b[39m\"\u001b[39m)\n",
      "\u001b[0;31mVariableNotFoundError\u001b[0m: Cannot find variable yShade in data file."
     ]
    }
   ],
   "source": [
    "res['zone_temp']"
   ]
  },
  {
   "cell_type": "code",
   "execution_count": null,
   "metadata": {},
   "outputs": [
    {
     "ename": "",
     "evalue": "",
     "output_type": "error",
     "traceback": [
      "\u001b[1;31mRunning cells with '/bin/python3' requires the ipykernel package.\n",
      "\u001b[1;31mRun the following command to install 'ipykernel' into the Python environment. \n",
      "\u001b[1;31mCommand: '/bin/python3 -m pip install ipykernel -U --user --force-reinstall'"
     ]
    }
   ],
   "source": [
    "model.get_log()"
   ]
  }
 ],
 "metadata": {
  "kernelspec": {
   "display_name": "base",
   "language": "python",
   "name": "python3"
  },
  "language_info": {
   "codemirror_mode": {
    "name": "ipython",
    "version": 3
   },
   "file_extension": ".py",
   "mimetype": "text/x-python",
   "name": "python",
   "nbconvert_exporter": "python",
   "pygments_lexer": "ipython3",
   "version": "3.11.4"
  }
 },
 "nbformat": 4,
 "nbformat_minor": 2
}
